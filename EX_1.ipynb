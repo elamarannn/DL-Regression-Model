{
  "nbformat": 4,
  "nbformat_minor": 0,
  "metadata": {
    "colab": {
      "provenance": [],
      "authorship_tag": "ABX9TyPrMXTFi520EB6lXJVgPEYW",
      "include_colab_link": true
    },
    "kernelspec": {
      "name": "python3",
      "display_name": "Python 3"
    },
    "language_info": {
      "name": "python"
    }
  },
  "cells": [
    {
      "cell_type": "markdown",
      "metadata": {
        "id": "view-in-github",
        "colab_type": "text"
      },
      "source": [
        "<a href=\"https://colab.research.google.com/github/elamarannn/DL-Regression-Model/blob/main/EX_1.ipynb\" target=\"_parent\"><img src=\"https://colab.research.google.com/assets/colab-badge.svg\" alt=\"Open In Colab\"/></a>"
      ]
    },
    {
      "cell_type": "code",
      "source": [
        "import torch as t\n",
        "import torch.nn as nn\n",
        "import matplotlib.pyplot as plt"
      ],
      "metadata": {
        "id": "-ZfsjZUrvukN"
      },
      "execution_count": 31,
      "outputs": []
    },
    {
      "cell_type": "code",
      "source": [
        "t.manual_seed(71)\n",
        "X = t.linspace(1, 50, 50).reshape(-1, 1)\n",
        "e = t.randint(-8, 9, (50, 1),dtype=t.float)\n",
        "y = 2 * X + 1 + e"
      ],
      "metadata": {
        "id": "IW1BVXG7vwwi"
      },
      "execution_count": 3,
      "outputs": []
    },
    {
      "cell_type": "code",
      "source": [
        "plt.scatter(X.numpy(), y.numpy(),color = 'purple')\n",
        "plt.xlabel('X')\n",
        "plt.ylabel('y')\n",
        "plt.title('Generated Data for Linear REgression')\n",
        "plt.show()"
      ],
      "metadata": {
        "colab": {
          "base_uri": "https://localhost:8080/",
          "height": 472
        },
        "id": "EzJF4JqKvytH",
        "outputId": "9849b984-f538-44f0-a752-cfd78d27e3cb"
      },
      "execution_count": 4,
      "outputs": [
        {
          "output_type": "display_data",
          "data": {
            "text/plain": [
              "<Figure size 640x480 with 1 Axes>"
            ],
            "image/png": "[encoded data removed]"
          },
          "metadata": {}
        }
      ]
    },
    {
      "cell_type": "code",
      "source": [
        "class Model(nn.Module):\n",
        "  def __init__(self,in_features,out_features):\n",
        "    super().__init__()\n",
        "    self.linear = nn.Linear(in_features, out_features)"
      ],
      "metadata": {
        "id": "VNyTKQBOv0iw"
      },
      "execution_count": 5,
      "outputs": []
    },
    {
      "cell_type": "code",
      "source": [
        "    def forward(self,x):\n",
        "      return self.linear(x)"
      ],
      "metadata": {
        "id": "YyvvBJ8Cv4SU"
      },
      "execution_count": 6,
      "outputs": []
    },
    {
      "cell_type": "code",
      "source": [
        "t.manual_seed(59)\n",
        "model = Model(1,1)\n"
      ],
      "metadata": {
        "id": "r_46qeI2v6xW"
      },
      "execution_count": 7,
      "outputs": []
    },
    {
      "cell_type": "code",
      "source": [
        "initial_weight = model.linear.weight.item()\n",
        "initial_bias = model.linear.bias.item()"
      ],
      "metadata": {
        "id": "VViEpEMGv80M"
      },
      "execution_count": 8,
      "outputs": []
    },
    {
      "cell_type": "code",
      "source": [
        "print(f\"Initial Weight: {initial_weight:.2f}\")\n",
        "print(f\"Initial Bias: {initial_bias:.2f}\")\n",
        "print(\"\\nName: Elamaran S E\")\n",
        "print(\"Register No: 212222230036\")\n",
        "print(f'Initial Weight: {initial_weight:.8f}, Initial Bias: {initial_bias:.8f}\\n')"
      ],
      "metadata": {
        "colab": {
          "base_uri": "https://localhost:8080/"
        },
        "id": "n8LGUDrAv-uY",
        "outputId": "61848057-25e6-4e2e-e5d5-a9350b0b5c99"
      },
      "execution_count": 9,
      "outputs": [
        {
          "output_type": "stream",
          "name": "stdout",
          "text": [
            "Initial Weight: 0.11\n",
            "Initial Bias: 0.96\n",
            "\n",
            "Name: Elamaran S E\n",
            "Register No: 212222230036\n",
            "Initial Weight: 0.10597813, Initial Bias: 0.96379614\n",
            "\n"
          ]
        }
      ]
    },
    {
      "cell_type": "code",
      "source": [
        "loss_function = nn.MSELoss()\n",
        "optimizer = t.optim.SGD(model.parameters(), lr = 0.001)"
      ],
      "metadata": {
        "id": "WM2elYriwA7s"
      },
      "execution_count": 10,
      "outputs": []
    },
    {
      "cell_type": "code",
      "source": [
        "class Model(nn.Module):\n",
        "  def __init__(self,in_features,out_features):\n",
        "    super().__init__()\n",
        "    self.linear = nn.Linear(in_features, out_features)\n",
        "\n",
        "  def forward(self,x): # Corrected indentation: forward is now a method of the Model class\n",
        "    return self.linear(x)"
      ],
      "metadata": {
        "id": "218228KtwEsu"
      },
      "execution_count": 12,
      "outputs": []
    },
    {
      "cell_type": "code",
      "source": [
        "import torch as t\n",
        "import torch.nn as nn\n",
        "import matplotlib.pyplot as plt\n",
        "\n",
        "# ... (Your existing code for data generation and plotting) ...\n",
        "\n",
        "class Model(nn.Module):\n",
        "  def __init__(self, in_features, out_features):\n",
        "    super().__init__()\n",
        "    self.linear = nn.Linear(in_features, out_features)\n",
        "\n",
        "  def forward(self, x):\n",
        "    return self.linear(x)\n",
        "\n",
        "# Instantiate the model using the corrected class definition\n",
        "t.manual_seed(59)\n",
        "model = Model(1, 1)\n",
        "\n",
        "# ... (The rest of your training loop code) ..."
      ],
      "metadata": {
        "id": "ByvQq0JIwN6o"
      },
      "execution_count": 15,
      "outputs": []
    },
    {
      "cell_type": "code",
      "source": [
        "import torch as t\n",
        "import torch.nn as nn\n",
        "import matplotlib.pyplot as plt\n",
        "\n",
        "# Assuming X, y, model, loss_function, and optimizer are defined as before\n",
        "\n",
        "epochs = 100  # Define the number of training epochs\n",
        "\n",
        "for epoch in range(epochs):\n",
        "    # 1. Forward pass\n",
        "    y_pred = model(X)\n",
        "    loss = loss_function(y_pred, y)  # Calculate the loss\n",
        "\n",
        "    # 2. Zero gradients\n",
        "    optimizer.zero_grad()\n",
        "\n",
        "    # 3. Backward pass\n",
        "    loss.backward()\n",
        "\n",
        "    # 4. Update weights\n",
        "    optimizer.step()\n",
        "\n",
        "    # Print the loss and other information for monitoring (every 10 epochs)\n",
        "    if (epoch + 1) % 10 == 0:\n",
        "        print(f'epoch: {epoch + 1:2}  loss: {loss.item():10.8f} '\n",
        "              f'weight: {model.linear.weight.item():10.8f} '\n",
        "              f'bias: {model.linear.bias.item():10.8f}')"
      ],
      "metadata": {
        "colab": {
          "base_uri": "https://localhost:8080/"
        },
        "id": "YPxHX4rbwZDe",
        "outputId": "c1550907-f77c-4143-929a-03257712a506"
      },
      "execution_count": 17,
      "outputs": [
        {
          "output_type": "stream",
          "name": "stdout",
          "text": [
            "epoch: 10  loss: 3057.21679688 weight: 0.10597813 bias: 0.96379614\n",
            "epoch: 20  loss: 3057.21679688 weight: 0.10597813 bias: 0.96379614\n",
            "epoch: 30  loss: 3057.21679688 weight: 0.10597813 bias: 0.96379614\n",
            "epoch: 40  loss: 3057.21679688 weight: 0.10597813 bias: 0.96379614\n",
            "epoch: 50  loss: 3057.21679688 weight: 0.10597813 bias: 0.96379614\n",
            "epoch: 60  loss: 3057.21679688 weight: 0.10597813 bias: 0.96379614\n",
            "epoch: 70  loss: 3057.21679688 weight: 0.10597813 bias: 0.96379614\n",
            "epoch: 80  loss: 3057.21679688 weight: 0.10597813 bias: 0.96379614\n",
            "epoch: 90  loss: 3057.21679688 weight: 0.10597813 bias: 0.96379614\n",
            "epoch: 100  loss: 3057.21679688 weight: 0.10597813 bias: 0.96379614\n"
          ]
        }
      ]
    },
    {
      "cell_type": "code",
      "source": [
        "import torch as t\n",
        "import torch.nn as nn\n",
        "import matplotlib.pyplot as plt\n",
        "\n",
        "# Assuming X, y, model, loss_function, and optimizer are defined as before\n",
        "\n",
        "epochs = 100  # Define the number of training epochs\n",
        "losses = []  # Initialize an empty list to store losses\n",
        "\n",
        "for epoch in range(epochs):\n",
        "    # 1. Forward pass\n",
        "    y_pred = model(X)\n",
        "    loss = loss_function(y_pred, y)  # Calculate the loss\n",
        "\n",
        "    # 2. Zero gradients\n",
        "    optimizer.zero_grad()\n",
        "\n",
        "    # 3. Backward pass\n",
        "    loss.backward()\n",
        "\n",
        "    # 4. Update weights\n",
        "    optimizer.step()\n",
        "\n",
        "    # Store the loss for plotting\n",
        "    losses.append(loss.item())\n",
        "\n",
        "    # Print the loss and other information for monitoring (every 10 epochs)\n",
        "    if (epoch + 1) % 10 == 0:\n",
        "        print(f'epoch: {epoch + 1:2}  loss: {loss.item():10.8f} '\n",
        "              f'weight: {model.linear.weight.item():10.8f} '\n",
        "              f'bias: {model.linear.bias.item():10.8f}')\n",
        "# %%\n",
        "plt.plot(range(epochs),losses,color='blue')\n",
        "plt.ylabel('Loss')\n",
        "plt.xlabel('Epochs')\n",
        "plt.title('Loss Curve')\n",
        "plt.show()"
      ],
      "metadata": {
        "colab": {
          "base_uri": "https://localhost:8080/",
          "height": 646
        },
        "id": "RZFsc4c8wsjU",
        "outputId": "81d6d99d-25df-4d62-e866-55b4891ba2cb"
      },
      "execution_count": 26,
      "outputs": [
        {
          "output_type": "stream",
          "name": "stdout",
          "text": [
            "epoch: 10  loss: 3057.21679688 weight: 0.10597813 bias: 0.96379614\n",
            "epoch: 20  loss: 3057.21679688 weight: 0.10597813 bias: 0.96379614\n",
            "epoch: 30  loss: 3057.21679688 weight: 0.10597813 bias: 0.96379614\n",
            "epoch: 40  loss: 3057.21679688 weight: 0.10597813 bias: 0.96379614\n",
            "epoch: 50  loss: 3057.21679688 weight: 0.10597813 bias: 0.96379614\n",
            "epoch: 60  loss: 3057.21679688 weight: 0.10597813 bias: 0.96379614\n",
            "epoch: 70  loss: 3057.21679688 weight: 0.10597813 bias: 0.96379614\n",
            "epoch: 80  loss: 3057.21679688 weight: 0.10597813 bias: 0.96379614\n",
            "epoch: 90  loss: 3057.21679688 weight: 0.10597813 bias: 0.96379614\n",
            "epoch: 100  loss: 3057.21679688 weight: 0.10597813 bias: 0.96379614\n"
          ]
        },
        {
          "output_type": "display_data",
          "data": {
            "text/plain": [
              "<Figure size 640x480 with 1 Axes>"
            ],
            "image/png": "[encoded data removed]"
          },
          "metadata": {}
        }
      ]
    },
    {
      "cell_type": "code",
      "source": [
        "final_weight = model.linear.weight.item()\n",
        "final_bias = model.linear.bias.item()\n",
        "print(\"\\nName: Elamaran S E\")\n",
        "print(\"Register No: 212222230036\")\n",
        "print(f'Final Weight: {final_weight:.8f}, Final Bias: {final_bias:.8f}\\n')\n"
      ],
      "metadata": {
        "colab": {
          "base_uri": "https://localhost:8080/"
        },
        "id": "T8kYtmW9w1p-",
        "outputId": "1d25cdcc-691e-469c-9caa-dbed018ad343"
      },
      "execution_count": 27,
      "outputs": [
        {
          "output_type": "stream",
          "name": "stdout",
          "text": [
            "\n",
            "Name: Elamaran S E\n",
            "Register No: 212222230036\n",
            "Final Weight: 0.10597813, Final Bias: 0.96379614\n",
            "\n"
          ]
        }
      ]
    },
    {
      "cell_type": "code",
      "source": [
        "x1 = t.tensor([X.min().item(),X.max().item()])\n",
        "y1 = x1*final_weight + final_bias # Corrected the typo: 'final_weigt' to 'final_weight'"
      ],
      "metadata": {
        "id": "jlXdyYy3w6Ow"
      },
      "execution_count": 28,
      "outputs": []
    },
    {
      "cell_type": "code",
      "source": [
        "plt.scatter(X.numpy(), y.numpy(), label='Original Data') # Changed X.numpt() to X.numpy()\n",
        "plt.plot(x1.numpy(), y1.numpy(), 'r', label='Best Fit Line') # Removed extra ' before label\n",
        "plt.xlabel('X')\n",
        "plt.ylabel('y')\n",
        "plt.title('Trained Model: Best Fit Line')\n",
        "plt.legend()\n",
        "plt.show()"
      ],
      "metadata": {
        "colab": {
          "base_uri": "https://localhost:8080/",
          "height": 472
        },
        "id": "-svrIr_hw8jy",
        "outputId": "383e41a2-3f8b-4243-9d32-4fbf4651efe0"
      },
      "execution_count": 29,
      "outputs": [
        {
          "output_type": "display_data",
          "data": {
            "text/plain": [
              "<Figure size 640x480 with 1 Axes>"
            ],
            "image/png": "[encoded data removed]"
          },
          "metadata": {}
        }
      ]
    },
    {
      "cell_type": "code",
      "source": [
        "x_new = t.tensor([[120.0]])\n",
        "y_new_pred = model(x_new).item()\n",
        "print(\"\\nName: Elamaran S E\")\n",
        "print(\"Register No: 212222230036\")\n",
        "print(f\"\\nPrediction for x = 120:  {y_new_pred:.8f}\")"
      ],
      "metadata": {
        "colab": {
          "base_uri": "https://localhost:8080/"
        },
        "id": "BA8m0yCvxE47",
        "outputId": "5a4a534f-1f4c-41f9-8bcd-910fb5840482"
      },
      "execution_count": 30,
      "outputs": [
        {
          "output_type": "stream",
          "name": "stdout",
          "text": [
            "\n",
            "Name: Elamaran S E\n",
            "Register No: 212222230036\n",
            "\n",
            "Prediction for x = 120:  13.68117142\n"
          ]
        }
      ]
    }
  ]
}